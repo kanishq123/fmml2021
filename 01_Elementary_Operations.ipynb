{
  "nbformat": 4,
  "nbformat_minor": 0,
  "metadata": {
    "colab": {
      "name": "01_Elementary_Operations.ipynb",
      "provenance": [],
      "include_colab_link": true
    },
    "kernelspec": {
      "name": "python3",
      "display_name": "Python 3"
    },
    "language_info": {
      "name": "python"
    }
  },
  "cells": [
    {
      "cell_type": "markdown",
      "metadata": {
        "id": "view-in-github",
        "colab_type": "text"
      },
      "source": [
        "<a href=\"https://colab.research.google.com/github/kanishq123/fmml2021/blob/main/01_Elementary_Operations.ipynb\" target=\"_parent\"><img src=\"https://colab.research.google.com/assets/colab-badge.svg\" alt=\"Open In Colab\"/></a>"
      ]
    },
    {
      "cell_type": "code",
      "metadata": {
        "id": "d_4Xzhe4p5Jh",
        "colab": {
          "base_uri": "https://localhost:8080/"
        },
        "outputId": "5f182b0a-157e-4823-d407-3ea30634609b"
      },
      "source": [
        "!python --version"
      ],
      "execution_count": 1,
      "outputs": [
        {
          "output_type": "stream",
          "name": "stdout",
          "text": [
            "Python 3.7.11\n"
          ]
        }
      ]
    },
    {
      "cell_type": "markdown",
      "metadata": {
        "id": "LQ7shzxUfj6N"
      },
      "source": [
        "### Elementary operations"
      ]
    },
    {
      "cell_type": "markdown",
      "metadata": {
        "id": "PI0fJw10fswU"
      },
      "source": [
        "#### Basic Calculator Operations\n",
        "\" addition + ,  subtraction  -  , multiplication  *  , division /  ,  exponent ** , modulus  %  , floor division  // \""
      ]
    },
    {
      "cell_type": "code",
      "metadata": {
        "id": "dm1hT_B9jXGu",
        "colab": {
          "base_uri": "https://localhost:8080/"
        },
        "outputId": "cf8c9108-7be9-4aa6-fea2-bad827321bb2"
      },
      "source": [
        "3 + 2         # addition"
      ],
      "execution_count": 2,
      "outputs": [
        {
          "output_type": "execute_result",
          "data": {
            "text/plain": [
              "5"
            ]
          },
          "metadata": {},
          "execution_count": 2
        }
      ]
    },
    {
      "cell_type": "code",
      "metadata": {
        "id": "sUhkQPuhXbYj",
        "colab": {
          "base_uri": "https://localhost:8080/"
        },
        "outputId": "d19bbc37-e787-49d6-f2e0-4f10b54026bc"
      },
      "source": [
        "3 - 2         # subtraction"
      ],
      "execution_count": 3,
      "outputs": [
        {
          "output_type": "execute_result",
          "data": {
            "text/plain": [
              "1"
            ]
          },
          "metadata": {},
          "execution_count": 3
        }
      ]
    },
    {
      "cell_type": "code",
      "metadata": {
        "id": "B1gLBI1LXo1m",
        "colab": {
          "base_uri": "https://localhost:8080/"
        },
        "outputId": "c0ce7aac-1f5f-4b7f-e395-a5971cafb401"
      },
      "source": [
        "5 * 3         # multiplication"
      ],
      "execution_count": 4,
      "outputs": [
        {
          "output_type": "execute_result",
          "data": {
            "text/plain": [
              "15"
            ]
          },
          "metadata": {},
          "execution_count": 4
        }
      ]
    },
    {
      "cell_type": "code",
      "metadata": {
        "id": "TwvpedNVXzRc",
        "colab": {
          "base_uri": "https://localhost:8080/"
        },
        "outputId": "9f3ba77e-776d-4c61-8599-c74731108fd5"
      },
      "source": [
        "7 / 2         # division (always returns a float)"
      ],
      "execution_count": 5,
      "outputs": [
        {
          "output_type": "execute_result",
          "data": {
            "text/plain": [
              "3.5"
            ]
          },
          "metadata": {},
          "execution_count": 5
        }
      ]
    },
    {
      "cell_type": "code",
      "metadata": {
        "id": "2LQZZcRPX5Bt",
        "colab": {
          "base_uri": "https://localhost:8080/"
        },
        "outputId": "5d7a63ec-e240-4b87-9418-800db36e3478"
      },
      "source": [
        "type (7 / 2)"
      ],
      "execution_count": 6,
      "outputs": [
        {
          "output_type": "execute_result",
          "data": {
            "text/plain": [
              "float"
            ]
          },
          "metadata": {},
          "execution_count": 6
        }
      ]
    },
    {
      "cell_type": "code",
      "metadata": {
        "id": "qjJkqqXcX95p",
        "colab": {
          "base_uri": "https://localhost:8080/"
        },
        "outputId": "43cfdde1-e4d9-44e2-e829-08f101ef57ad"
      },
      "source": [
        "7 // 2        # floor division (returns an integer - discards decimal part)"
      ],
      "execution_count": 7,
      "outputs": [
        {
          "output_type": "execute_result",
          "data": {
            "text/plain": [
              "3"
            ]
          },
          "metadata": {},
          "execution_count": 7
        }
      ]
    },
    {
      "cell_type": "code",
      "metadata": {
        "id": "2L_ku8CLYKDC",
        "colab": {
          "base_uri": "https://localhost:8080/"
        },
        "outputId": "eec5dfb1-9da7-4a87-e7ef-9e2c23408d48"
      },
      "source": [
        "type ( 7 // 2)"
      ],
      "execution_count": 8,
      "outputs": [
        {
          "output_type": "execute_result",
          "data": {
            "text/plain": [
              "int"
            ]
          },
          "metadata": {},
          "execution_count": 8
        }
      ]
    },
    {
      "cell_type": "code",
      "metadata": {
        "id": "dH2NmrgNYM97",
        "colab": {
          "base_uri": "https://localhost:8080/"
        },
        "outputId": "f05ac394-aa56-42f5-cf70-1092f43e8da9"
      },
      "source": [
        "7 % 2         # modulus operator - remainder is fetched after division"
      ],
      "execution_count": 9,
      "outputs": [
        {
          "output_type": "execute_result",
          "data": {
            "text/plain": [
              "1"
            ]
          },
          "metadata": {},
          "execution_count": 9
        }
      ]
    },
    {
      "cell_type": "code",
      "metadata": {
        "id": "wNTJter-YZ7W",
        "colab": {
          "base_uri": "https://localhost:8080/"
        },
        "outputId": "a9b587dd-b027-4611-f0d4-8cf2d56b87f6"
      },
      "source": [
        "7 ** 2        # exponentiation "
      ],
      "execution_count": 10,
      "outputs": [
        {
          "output_type": "execute_result",
          "data": {
            "text/plain": [
              "49"
            ]
          },
          "metadata": {},
          "execution_count": 10
        }
      ]
    },
    {
      "cell_type": "code",
      "metadata": {
        "id": "asikDVm7YvYT",
        "colab": {
          "base_uri": "https://localhost:8080/"
        },
        "outputId": "da6c974a-f17a-440c-e146-fed2719b5728"
      },
      "source": [
        "5 - 2 * 2     # operator precedence : (), **, -(unary),  * or /, + or -"
      ],
      "execution_count": 11,
      "outputs": [
        {
          "output_type": "execute_result",
          "data": {
            "text/plain": [
              "1"
            ]
          },
          "metadata": {},
          "execution_count": 11
        }
      ]
    },
    {
      "cell_type": "code",
      "metadata": {
        "id": "YOcK-5d5eA39"
      },
      "source": [
        "# on string variables\n",
        "first_name = 'charlie'\n",
        "second_name = \"chaplin\""
      ],
      "execution_count": 12,
      "outputs": []
    },
    {
      "cell_type": "code",
      "metadata": {
        "id": "oYu_ynPOeS2_",
        "colab": {
          "base_uri": "https://localhost:8080/",
          "height": 35
        },
        "outputId": "0458a314-aa0b-47ff-e627-8bcb2a64e0ec"
      },
      "source": [
        "first_name + second_name"
      ],
      "execution_count": 13,
      "outputs": [
        {
          "output_type": "execute_result",
          "data": {
            "application/vnd.google.colaboratory.intrinsic+json": {
              "type": "string"
            },
            "text/plain": [
              "'charliechaplin'"
            ]
          },
          "metadata": {},
          "execution_count": 13
        }
      ]
    },
    {
      "cell_type": "code",
      "metadata": {
        "id": "oIY8q8wgehFC",
        "colab": {
          "base_uri": "https://localhost:8080/",
          "height": 35
        },
        "outputId": "63610bd3-c2dc-4422-85fd-a554fedc139f"
      },
      "source": [
        "first_name + ' ' + second_name"
      ],
      "execution_count": 14,
      "outputs": [
        {
          "output_type": "execute_result",
          "data": {
            "application/vnd.google.colaboratory.intrinsic+json": {
              "type": "string"
            },
            "text/plain": [
              "'charlie chaplin'"
            ]
          },
          "metadata": {},
          "execution_count": 14
        }
      ]
    },
    {
      "cell_type": "code",
      "metadata": {
        "id": "6Vuv8iMbevRJ",
        "colab": {
          "base_uri": "https://localhost:8080/",
          "height": 35
        },
        "outputId": "4cdc7785-d763-45e5-a7f4-7dc5c351b5ed"
      },
      "source": [
        "first_name * 2"
      ],
      "execution_count": 15,
      "outputs": [
        {
          "output_type": "execute_result",
          "data": {
            "application/vnd.google.colaboratory.intrinsic+json": {
              "type": "string"
            },
            "text/plain": [
              "'charliecharlie'"
            ]
          },
          "metadata": {},
          "execution_count": 15
        }
      ]
    },
    {
      "cell_type": "code",
      "metadata": {
        "id": "QPblckrXe2ui",
        "colab": {
          "base_uri": "https://localhost:8080/",
          "height": 35
        },
        "outputId": "2b991da4-5ad8-43c5-c7e9-16fd155178ff"
      },
      "source": [
        "(first_name * 2) + ' ' + (second_name * 3)"
      ],
      "execution_count": 16,
      "outputs": [
        {
          "output_type": "execute_result",
          "data": {
            "application/vnd.google.colaboratory.intrinsic+json": {
              "type": "string"
            },
            "text/plain": [
              "'charliecharlie chaplinchaplinchaplin'"
            ]
          },
          "metadata": {},
          "execution_count": 16
        }
      ]
    },
    {
      "cell_type": "markdown",
      "metadata": {
        "id": "aLcLONZ1fLxt"
      },
      "source": [
        "### Some exercises..."
      ]
    },
    {
      "cell_type": "code",
      "metadata": {
        "id": "DRFAgL6DZYxm"
      },
      "source": [
        "# 1. A brick has dimensions 5 cm x 4 cm x 2 cm. Find volume.\n",
        "brick_length = 5\n",
        "brick_breadth = 4\n",
        "brick_height = 2"
      ],
      "execution_count": 17,
      "outputs": []
    },
    {
      "cell_type": "code",
      "metadata": {
        "id": "pKZ7uDHCZ3At",
        "colab": {
          "base_uri": "https://localhost:8080/"
        },
        "outputId": "c4686b5f-fdbc-44f3-996a-bdf175ea278d"
      },
      "source": [
        "brick_volume = brick_length * brick_breadth * brick_height\n",
        "print (brick_volume)"
      ],
      "execution_count": 18,
      "outputs": [
        {
          "output_type": "stream",
          "name": "stdout",
          "text": [
            "40\n"
          ]
        }
      ]
    },
    {
      "cell_type": "code",
      "metadata": {
        "id": "S2zZsoBb2z45"
      },
      "source": [
        "# 2. What will the expression -3 ** 2 evaluate to ?\n"
      ],
      "execution_count": 19,
      "outputs": []
    },
    {
      "cell_type": "markdown",
      "metadata": {
        "id": "nPqa-OG28yg_"
      },
      "source": [
        "*Exercise (do it yourself) :* A litre of petrol costs Rs 102. Your two wheeler gives a mileage of 38 kms per litre of petrol. How much of a distance can you travel with fuel worth Rs 50."
      ]
    },
    {
      "cell_type": "code",
      "metadata": {
        "id": "fZ4Tpi0B27lf"
      },
      "source": [
        "fuel_price =102\n",
        "mileage =38\n",
        "cash =50"
      ],
      "execution_count": 20,
      "outputs": []
    },
    {
      "cell_type": "code",
      "metadata": {
        "id": "eEUt5STwcp5Y"
      },
      "source": [
        "distance = (mileage/fuel_price)*cash"
      ],
      "execution_count": 24,
      "outputs": []
    },
    {
      "cell_type": "code",
      "metadata": {
        "id": "IasenYnEFCiY",
        "outputId": "728eddd9-cf80-4f7a-d4ef-ed9754f71bf8",
        "colab": {
          "base_uri": "https://localhost:8080/"
        }
      },
      "source": [
        "print(distance)"
      ],
      "execution_count": 25,
      "outputs": [
        {
          "output_type": "stream",
          "name": "stdout",
          "text": [
            "18.627450980392158\n"
          ]
        }
      ]
    },
    {
      "cell_type": "code",
      "metadata": {
        "id": "Q1TEnN6pc4Ld",
        "colab": {
          "base_uri": "https://localhost:8080/"
        },
        "outputId": "dcbc3eaf-ffaa-42d5-9676-1d2288696144"
      },
      "source": [
        "print(\"Distance that one can travel is :\",round(distance ,2))"
      ],
      "execution_count": 22,
      "outputs": [
        {
          "output_type": "stream",
          "name": "stdout",
          "text": [
            "Distance that one can travel is : 18.63\n"
          ]
        }
      ]
    },
    {
      "cell_type": "markdown",
      "metadata": {
        "id": "vUAWMNbjiSvf"
      },
      "source": [
        "#### References"
      ]
    },
    {
      "cell_type": "markdown",
      "metadata": {
        "id": "KmpvkMmKiVcZ"
      },
      "source": [
        "1. [Python Operators](https://www.w3schools.com/python/python_operators.asp) and [Python Exercises](https://www.w3schools.com/python/exercise.asp)\n",
        "2. [Official Python Documentation](https://docs.python.org/3/tutorial/introduction.html)\n"
      ]
    }
  ]
}